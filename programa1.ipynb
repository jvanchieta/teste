{
  "nbformat": 4,
  "nbformat_minor": 0,
  "metadata": {
    "colab": {
      "provenance": [],
      "authorship_tag": "ABX9TyM1NuOy/J9pbMNiNY1lHi2D",
      "include_colab_link": true
    },
    "kernelspec": {
      "name": "python3",
      "display_name": "Python 3"
    },
    "language_info": {
      "name": "python"
    }
  },
  "cells": [
    {
      "cell_type": "markdown",
      "metadata": {
        "id": "view-in-github",
        "colab_type": "text"
      },
      "source": [
        "<a href=\"https://colab.research.google.com/github/jvanchieta/teste/blob/main/programa1.ipynb\" target=\"_parent\"><img src=\"https://colab.research.google.com/assets/colab-badge.svg\" alt=\"Open In Colab\"/></a>"
      ]
    },
    {
      "cell_type": "markdown",
      "source": [],
      "metadata": {
        "id": "tioppT95EnTH"
      }
    },
    {
      "cell_type": "code",
      "source": [
        "n= int(input(\"digite a quantidade de alunos\"))\n",
        "Soma_das_medias = 0\n",
        "for i in range( 1, n + 1):\n",
        "  print(f\"\\nAluno {i}:\")\n",
        "  nota1 = float(input(\"Digite a primeira nota: \"))\n",
        "  nota2 = float(input(\"Digite a segunda nota: \"))\n",
        "  media = (nota1 + nota2) / 2\n",
        "  resultadofinal = f\"A média do aluno {i} é {media:.2f}\"\n",
        "  print(resultadofinal)\n"
      ],
      "metadata": {
        "id": "tiZSekoQQBIO",
        "outputId": "d167471d-3616-4166-9467-1dac41062b7e",
        "colab": {
          "base_uri": "https://localhost:8080/"
        }
      },
      "execution_count": 5,
      "outputs": [
        {
          "output_type": "stream",
          "name": "stdout",
          "text": [
            "digite a quantidade de alunos2\n",
            "\n",
            "Aluno 1:\n",
            "Digite a primeira nota: 5\n",
            "Digite a segunda nota: 6\n",
            "A média do aluno 1 é 5.50\n",
            "\n",
            "Aluno 2:\n",
            "Digite a primeira nota: 7\n",
            "Digite a segunda nota: 7\n",
            "A média do aluno 2 é 7.00\n"
          ]
        }
      ]
    },
    {
      "cell_type": "code",
      "source": [
        "#importancia dos tipos de variaveis\n",
        "a = 2\n",
        "print(type(a))\n",
        "b = 3\n",
        "print(type(b))\n",
        "soma = a + b\n",
        "print(type(soma))\n",
        "print(soma)\n"
      ],
      "metadata": {
        "colab": {
          "base_uri": "https://localhost:8080/"
        },
        "id": "0iCpWvmCEnuf",
        "outputId": "88238fcf-2ab5-43a4-96b9-66b20d24bebf"
      },
      "execution_count": null,
      "outputs": [
        {
          "output_type": "stream",
          "name": "stdout",
          "text": [
            "<class 'int'>\n",
            "<class 'int'>\n",
            "<class 'int'>\n",
            "5\n"
          ]
        }
      ]
    },
    {
      "cell_type": "code",
      "source": [
        "num = int(input(\"digite valor inteiro: \"))\n",
        "print(type(num))\n",
        "quoc = num//2\n",
        "resto =  num % 2\n",
        "print(quoc)\n",
        "print(resto)"
      ],
      "metadata": {
        "colab": {
          "base_uri": "https://localhost:8080/"
        },
        "id": "kvVnaXY9JP5n",
        "outputId": "7624a9b4-0eda-445c-b53a-0a05edee02ab"
      },
      "execution_count": null,
      "outputs": [
        {
          "output_type": "stream",
          "name": "stdout",
          "text": [
            "digite valor inteiro: 9\n",
            "<class 'int'>\n",
            "4\n",
            "1\n"
          ]
        }
      ]
    },
    {
      "cell_type": "code",
      "source": [
        "while True:\n",
        "  resposta = input(\"Deseja realizar uma soma? (sim/nao): \"). lower\n",
        "  if resposta == \"sim\":\n",
        "    num1 = float(input(\"Digite o primeiro numero: \"))\n",
        "    num2 = float(input(\"Digite o segundo numero: \"))\n",
        "    soma = num1 + num2 #calculo da soma\n",
        "    print(\"a soma é:\" , soma )\n",
        "  else :\n",
        "        print(\"encerrando o programa.\")\n",
        "        break"
      ],
      "metadata": {
        "collapsed": true,
        "id": "VNsOioh0Uesy",
        "outputId": "e12d6519-3b5f-487b-dc85-9b8c04422ab0",
        "colab": {
          "base_uri": "https://localhost:8080/"
        }
      },
      "execution_count": 27,
      "outputs": [
        {
          "output_type": "stream",
          "name": "stdout",
          "text": [
            "Deseja realizar uma soma? (sim/nao): nao\n",
            "encerrando o programa.\n"
          ]
        }
      ]
    }
  ]
}