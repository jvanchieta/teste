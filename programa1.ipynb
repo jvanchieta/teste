{
  "nbformat": 4,
  "nbformat_minor": 0,
  "metadata": {
    "colab": {
      "provenance": [],
      "authorship_tag": "ABX9TyMKeWqN+bF/Ypbfu0j4OJy3",
      "include_colab_link": true
    },
    "kernelspec": {
      "name": "python3",
      "display_name": "Python 3"
    },
    "language_info": {
      "name": "python"
    }
  },
  "cells": [
    {
      "cell_type": "markdown",
      "metadata": {
        "id": "view-in-github",
        "colab_type": "text"
      },
      "source": [
        "<a href=\"https://colab.research.google.com/github/jvanchieta/teste/blob/main/programa1.ipynb\" target=\"_parent\"><img src=\"https://colab.research.google.com/assets/colab-badge.svg\" alt=\"Open In Colab\"/></a>"
      ]
    },
    {
      "cell_type": "markdown",
      "source": [],
      "metadata": {
        "id": "tioppT95EnTH"
      }
    },
    {
      "cell_type": "code",
      "source": [
        "#importancia dos tipos de variaveis\n",
        "a = 2\n",
        "print(type(a))\n",
        "b = 3\n",
        "print(type(b))\n",
        "soma = a + b\n",
        "print(type(soma))\n",
        "print(soma)\n"
      ],
      "metadata": {
        "colab": {
          "base_uri": "https://localhost:8080/"
        },
        "id": "0iCpWvmCEnuf",
        "outputId": "88238fcf-2ab5-43a4-96b9-66b20d24bebf"
      },
      "execution_count": 18,
      "outputs": [
        {
          "output_type": "stream",
          "name": "stdout",
          "text": [
            "<class 'int'>\n",
            "<class 'int'>\n",
            "<class 'int'>\n",
            "5\n"
          ]
        }
      ]
    },
    {
      "cell_type": "code",
      "source": [
        "num = int(input(\"digite valor inteiro: \"))\n",
        "print(type(num))\n",
        "quoc = num//2\n",
        "resto =  num % 2\n",
        "print(quoc)\n",
        "print(resto)"
      ],
      "metadata": {
        "colab": {
          "base_uri": "https://localhost:8080/"
        },
        "id": "kvVnaXY9JP5n",
        "outputId": "7624a9b4-0eda-445c-b53a-0a05edee02ab"
      },
      "execution_count": 20,
      "outputs": [
        {
          "output_type": "stream",
          "name": "stdout",
          "text": [
            "digite valor inteiro: 9\n",
            "<class 'int'>\n",
            "4\n",
            "1\n"
          ]
        }
      ]
    }
  ]
}