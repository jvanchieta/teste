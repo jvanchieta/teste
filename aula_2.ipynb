{
  "nbformat": 4,
  "nbformat_minor": 0,
  "metadata": {
    "colab": {
      "provenance": [],
      "authorship_tag": "ABX9TyONmoIWO1W+FwYq3dLgx/3k",
      "include_colab_link": true
    },
    "kernelspec": {
      "name": "python3",
      "display_name": "Python 3"
    },
    "language_info": {
      "name": "python"
    }
  },
  "cells": [
    {
      "cell_type": "markdown",
      "metadata": {
        "id": "view-in-github",
        "colab_type": "text"
      },
      "source": [
        "<a href=\"https://colab.research.google.com/github/jvanchieta/teste/blob/main/aula_2.ipynb\" target=\"_parent\"><img src=\"https://colab.research.google.com/assets/colab-badge.svg\" alt=\"Open In Colab\"/></a>"
      ]
    },
    {
      "cell_type": "code",
      "source": [
        "from math import pi"
      ],
      "metadata": {
        "id": "ZsNrf2eiKvYD"
      },
      "execution_count": 20,
      "outputs": []
    },
    {
      "cell_type": "code",
      "execution_count": 4,
      "metadata": {
        "colab": {
          "base_uri": "https://localhost:8080/"
        },
        "id": "IXUXDRMVB6wZ",
        "outputId": "2f1c847f-b1bb-4819-d1fc-78e551b9df75"
      },
      "outputs": [
        {
          "output_type": "stream",
          "name": "stdout",
          "text": [
            "digite valor do raio da esfera2\n",
            "volume da esfera é:  33.49333333333333\n"
          ]
        }
      ],
      "source": [
        "r = float(input( \"digite valor do raio da esfera\"))\n",
        "V = (4/3) * 3.14* r ** 3\n",
        "print(\"volume da esfera é: \", V)"
      ]
    },
    {
      "cell_type": "code",
      "source": [
        "g = float(input( \"digite o valor em graus\"))\n",
        "vrad = g * pi / 180\n",
        "print(\"valor em radianos é: \", r)"
      ],
      "metadata": {
        "colab": {
          "base_uri": "https://localhost:8080/"
        },
        "id": "27CE6vmoHdW9",
        "outputId": "a091c3a3-0fc4-43a7-92da-94f0265fa504"
      },
      "execution_count": 21,
      "outputs": [
        {
          "output_type": "stream",
          "name": "stdout",
          "text": [
            "digite o valor em graus90\n",
            "valor em radianos é:  2.0\n"
          ]
        }
      ]
    },
    {
      "cell_type": "code",
      "source": [],
      "metadata": {
        "id": "Q2PfaIM-D3di"
      },
      "execution_count": null,
      "outputs": []
    }
  ]
}